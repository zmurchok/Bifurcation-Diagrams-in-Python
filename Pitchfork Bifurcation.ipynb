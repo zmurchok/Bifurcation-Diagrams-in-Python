{
 "cells": [
  {
   "cell_type": "code",
   "execution_count": 1,
   "metadata": {},
   "outputs": [],
   "source": [
    "%matplotlib inline\n",
    "#import all the required packages\n",
    "import matplotlib\n",
    "from matplotlib import rcParams\n",
    "import PyDSTool as dst\n",
    "import numpy as np\n",
    "from matplotlib import rc\n",
    "from matplotlib import pyplot as plt\n",
    "\n",
    "#Setup nice plots\n",
    "def set_style():\n",
    "    plt.style.use(['seaborn-colorblind','seaborn-whitegrid','seaborn-talk'])\n",
    "\n",
    "set_style()\n",
    "rc('font', **{'family': 'serif', 'serif': ['Times'], 'size': 12})\n",
    "rc('text', usetex=True)\n",
    "rcParams.update({'figure.figsize': (4,3)}) #SET DEFAULT FIGURE SIZE HERE--this is only important for jupyter notebook\n",
    "rcParams.update({'figure.autolayout': True})"
   ]
  },
  {
   "cell_type": "markdown",
   "metadata": {},
   "source": [
    "# Solve system and plot"
   ]
  },
  {
   "cell_type": "code",
   "execution_count": 2,
   "metadata": {},
   "outputs": [
    {
     "name": "stderr",
     "output_type": "stream",
     "text": [
      "/Users/cole/anaconda2/lib/python2.7/site-packages/matplotlib/figure.py:1743: UserWarning: This figure includes Axes that are not compatible with tight_layout, so its results might be incorrect.\n",
      "  warnings.warn(\"This figure includes Axes that are not \"\n"
     ]
    },
    {
     "data": {
      "image/png": "[encoded data removed]",
      "text/plain": [
       "<matplotlib.figure.Figure at 0x1137abd50>"
      ]
     },
     "metadata": {},
     "output_type": "display_data"
    }
   ],
   "source": [
    "#Define the arguments of the ODE system\n",
    "DSargs = dst.args(name='ode')\n",
    "DSargs.pars = {'r':1} #Parameters\n",
    "DSargs.varspecs = {'x': 'r*x-x^3'} #rhs\n",
    "DSargs.ics = {'x':2} #ics\n",
    "DSargs.tdomain = [0,20] #time domain for integration\n",
    "\n",
    "#Generate the ode system, called ode, using the previously specified args, solve for the traj, and get the solution points at dt=0.01\n",
    "ode = dst.Generator.Vode_ODEsystem(DSargs)\n",
    "traj = ode.compute('my_sol')\n",
    "pts = traj.sample(dt=0.01)\n",
    "\n",
    "#plot the solution in a figure called p1\n",
    "p1=plt.figure(figsize=(4, 3))\n",
    "plt.plot(pts['t'],pts['x']) #ACTUAL PLOT\n",
    "plt.xlabel(r'$t$')\n",
    "plt.ylabel(r'$x$')\n",
    "plt.autoscale(enable=True, axis='x', tight=True)#for tight limits on x axis\n",
    "plt.autoscale(enable=True, axis='y', tight=True)#for tight limits on y axis\n",
    "#alternately set plt.xlim(a,b) as necessary\n",
    "plt.title('A Solution')\n",
    "p1.savefig('xvst.eps')\n",
    "plt.show()"
   ]
  },
  {
   "cell_type": "markdown",
   "metadata": {},
   "source": [
    "# Continuation"
   ]
  },
  {
   "cell_type": "code",
   "execution_count": 3,
   "metadata": {},
   "outputs": [
    {
     "name": "stdout",
     "output_type": "stream",
     "text": [
      "Warning: Variable dimension must be larger than 1 to detect Hopf points.\n",
      "BP Point found \n",
      "========================== \n",
      "0 : \n",
      "x  =  -3.7712692191e-18\n",
      "r  =  1.00089162575e-12\n",
      "\n",
      "Eigenvalues = \n",
      "\n",
      "     (0.000000,0.000000)\n",
      "     (0.999991,0.000000)\n",
      "\n",
      "\n",
      "branch angle = 0.99993880713597527\n",
      "Test function #1: -7.989978271003756e-18\n",
      "\n"
     ]
    },
    {
     "data": {
      "image/png": "[encoded data removed]",
      "text/plain": [
       "<matplotlib.figure.Figure at 0x115ff4510>"
      ]
     },
     "metadata": {},
     "output_type": "display_data"
    }
   ],
   "source": [
    "PC = dst.ContClass(ode)\n",
    "\n",
    "PCargs = dst.args(name='EQ1',type='EP-C')\n",
    "PCargs.freepars = ['r']\n",
    "PCargs.MaxNumPoints = 500\n",
    "PCargs.MaxStepSize = 1e-2 #0.01\n",
    "PCargs.StepSize = 1e-3 #0.001\n",
    "PCargs.LocBifPoints = 'all'\n",
    "PCargs.SaveEigen = True\n",
    "PCargs.verbosity = 2\n",
    "PCargs.FuncTol = 1e-8\n",
    "PCargs.TestTol = 1e-8\n",
    "PCargs.VarTol = 1e-8\n",
    "\n",
    "PC.newCurve(PCargs)\n",
    "PC['EQ1'].forward()\n",
    "PC['EQ1'].backward()\n",
    "\n",
    "p2 = plt.figure(figsize=(4,3))\n",
    "PC.display(['r','x'],stability=True)\n",
    "# PC['EQ1'].plot.toggleLabels('off',bytype='P')\n",
    "# PC['EQ1'].plot.toggleLabels('off',bytype='LP')\n",
    "# PC['EQ1'].plot.togglePoints('off',bytype='P')\n",
    "plt.title('')\n",
    "plt.xlabel(r'$r$')\n",
    "plt.ylabel(r'$x$')\n",
    "plt.autoscale(enable=True, axis='x', tight=True)#for tight limits on x axis\n",
    "plt.autoscale(enable=True, axis='y', tight=True)#for tight limits on y axis\n",
    "p2.savefig('xvsr.tif',dpi=300) #eg save as tif with 300 dpi\n",
    "plt.show()"
   ]
  },
  {
   "cell_type": "markdown",
   "metadata": {},
   "source": [
    "# Switch branches (start at Branch Point)"
   ]
  },
  {
   "cell_type": "code",
   "execution_count": 4,
   "metadata": {},
   "outputs": [
    {
     "name": "stdout",
     "output_type": "stream",
     "text": [
      "Warning: Variable dimension must be larger than 1 to detect Hopf points.\n",
      "BP Point found \n",
      "========================== \n",
      "0 : \n",
      "x  =  8.82136196137e-26\n",
      "r  =  1e-12\n",
      "\n",
      "Eigenvalues = \n",
      "\n",
      "     (0.000000,0.000000)\n",
      "     (-0.999752,0.000000)\n",
      "\n",
      "\n",
      "branch angle = -0.0021037843490523712\n",
      "Test function #1: -3.9589299215206568e-24\n",
      "\n"
     ]
    },
    {
     "data": {
      "image/png": "[encoded data removed]",
      "text/plain": [
       "<matplotlib.figure.Figure at 0x116359350>"
      ]
     },
     "metadata": {},
     "output_type": "display_data"
    }
   ],
   "source": [
    "### CONTINUATION ON SECOND BRANCH\n",
    "PCargs = dst.args(name='branch2', type='EP-C',force=True)\n",
    "PCargs.initpoint = 'EQ1:BP1'\n",
    "PCargs.freepars = ['r']\n",
    "PCargs.MaxStepSize = 1e-2\n",
    "PCargs.LocBifPoints = 'all'\n",
    "PCargs.MaxNumPoints = 100\n",
    "PCargs.SaveEigen = True\n",
    "PCargs.verbosity = 2\n",
    "\n",
    "p3 = plt.figure(figsize=(4,3))\n",
    "PC.newCurve(PCargs)\n",
    "PC['branch2'].forward()\n",
    "PC['branch2'].backward()\n",
    "PC.display(['r','x'],stability=True,figure=p3)\n",
    "PC['EQ1'].plot.toggleLabels('off')\n",
    "PC['branch2'].plot.toggleLabels('off')\n",
    "# PC['branch2'].plot.toggleLabels('off',bytype='LP')\n",
    "PC['EQ1'].plot.togglePoints('off',bytype='P')\n",
    "PC['branch2'].plot.togglePoints('off',bytype='P')\n",
    "plt.title('')\n",
    "plt.xlabel(r'$r$')\n",
    "plt.ylabel(r'$x$')\n",
    "# plt.autoscale(enable=True, axis='x', tight=True)#for tight limits on x axis\n",
    "# plt.autoscale(enable=True, axis='y', tight=True)#for tight limits on y axis\n",
    "plt.xlim(-1,1)\n",
    "plt.ylim(-1,1)\n",
    "p3.savefig('xvsr_extra_branch.tif',dpi=300)\n",
    "p3.savefig('xvsr_extra_branch.eps')\n",
    "plt.show()"
   ]
  }
 ],
 "metadata": {
  "anaconda-cloud": {},
  "kernelspec": {
   "display_name": "Python 2",
   "language": "python",
   "name": "python2"
  },
  "language_info": {
   "codemirror_mode": {
    "name": "ipython",
    "version": 2
   },
   "file_extension": ".py",
   "mimetype": "text/x-python",
   "name": "python",
   "nbconvert_exporter": "python",
   "pygments_lexer": "ipython2",
   "version": "2.7.13"
  }
 },
 "nbformat": 4,
 "nbformat_minor": 1
}
